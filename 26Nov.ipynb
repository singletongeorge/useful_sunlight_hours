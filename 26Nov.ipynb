{
 "cells": [
  {
   "cell_type": "code",
   "execution_count": 127,
   "metadata": {},
   "outputs": [],
   "source": [
    "#Importing all the relevant libraries and obtaining inputs\n",
    "\n",
    "#importing libraries\n",
    "import math #mathematical operations\n",
    "import numpy as np #linear algebra\n",
    "import matplotlib.pyplot as plt #plotting library\n",
    "import pandas as pd #data processing (can read CSVs and create tables, interacts with excel)\n",
    "import folium #mapping tool\n",
    "import os #operating system functionality\n",
    "\n",
    "#Importing data from excel\n",
    "from pandas import ExcelWriter\n",
    "from pandas import ExcelFile\n",
    "os.chdir(\"C:\\\\Users\\\\George\\\\Documents\\\\University\\\\Year 4\\\\Project\\\\Python Version 1\")\n",
    "input_sheet = pd.read_excel('Project_Excel.xlsx', sheet_name='Inputs', header = None)\n",
    "#defining location\n",
    "lat = input_sheet.iloc[3, 3] #(90 to -90), equator is at 0, north pole at 90, south pole at -90\n",
    "long = input_sheet.iloc[4, 3] #(180 to -180), prime meridian is at 0"
   ]
  },
  {
   "cell_type": "code",
   "execution_count": 128,
   "metadata": {},
   "outputs": [
    {
     "data": {
      "text/html": [
       "<div style=\"width:100%;\"><div style=\"position:relative;width:100%;height:0;padding-bottom:60%;\"><iframe src=\"data:text/html;charset=utf-8;base64,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\" style=\"position:absolute;width:100%;height:100%;left:0;top:0;border:none !important;\" allowfullscreen webkitallowfullscreen mozallowfullscreen></iframe></div></div>"
      ],
      "text/plain": [
       "<folium.folium.Map at 0x2512f0958d0>"
      ]
     },
     "execution_count": 128,
     "metadata": {},
     "output_type": "execute_result"
    }
   ],
   "source": [
    "#Showing map of provided latitude and longitude\n",
    "\n",
    "map = folium.Map(location=[lat , long], zoom_start = 4) #creating map centered at provided location with zoom level 4\n",
    "folium.Marker([lat, long], popup='Your Location').add_to(map) #adding marker to map\n",
    "\n",
    "map #displaying map"
   ]
  },
  {
   "cell_type": "code",
   "execution_count": 108,
   "metadata": {},
   "outputs": [
    {
     "name": "stdout",
     "output_type": "stream",
     "text": [
      "31449599\n"
     ]
    }
   ],
   "source": [
    "#defining date\n",
    "#converting date into a number of seconds after 00:00 on January 1st \n",
    "#neglecting leap years, daylight savings and general progression of time year on year\n",
    "#will consider a day to start at 00:00 \n",
    "#365 days in a year, 24 hours in a day, 60 mins in an hour, 60 secs in a min -> 86400 secs in a day\n",
    "\n",
    "day = input_sheet.iloc[5, 3] #extracting day from excel sheet [row,column]\n",
    "month = input_sheet.iloc[6, 3] #extracting month from excel sheet [row,column]\n",
    "\n",
    "if month == \"January\": #converting month string into an integer\n",
    "    month = 1\n",
    "if month == \"February\":\n",
    "    month = 2\n",
    "if month == \"March\":\n",
    "    month = 3\n",
    "if month == \"April\":\n",
    "    month = 4\n",
    "if month == \"May\":\n",
    "    month = 5\n",
    "if month == \"June\":\n",
    "    month = 6\n",
    "if month == \"July\":\n",
    "    month = 7\n",
    "if month == \"August\":\n",
    "    month = 8\n",
    "if month == \"September\":\n",
    "    month = 9    \n",
    "if month == \"October\":\n",
    "    month = 10    \n",
    "if month == \"November\":\n",
    "    month = 11\n",
    "if month == \"December\":\n",
    "    month = 12    \n",
    "    \n",
    "if month>0: #converting start of month into number of days since Jan 1st\n",
    "    month_days = 0\n",
    "if month>1:\n",
    "    month_days = month_days + 31\n",
    "if month>2:\n",
    "    month_days = month_days + 28\n",
    "if month>3:\n",
    "    month_days = month_days + 31\n",
    "if month>4:\n",
    "    month_days = month_days + 30\n",
    "if month>5:\n",
    "    month_days = month_days + 31\n",
    "if month>6:\n",
    "    month_days = month_days + 30\n",
    "if month>7:\n",
    "    month_days = month_days + 31 \n",
    "if month>8:\n",
    "    month_days = month_days + 31    \n",
    "if month>9:\n",
    "    month_days = month_days + 30\n",
    "if month>10:\n",
    "    month_days = month_days + 31\n",
    "if month>11:\n",
    "    month_days = month_days + 30\n",
    "\n",
    "day_start = 86400 * (month_days + day -1) #number of seconds after midnight Jan 1st the given day starts\n",
    "day_end = 86400 * (month_days + day) -1 #number of seconds after midnight Jan 1st the given day ends    "
   ]
  },
  {
   "cell_type": "code",
   "execution_count": 43,
   "metadata": {},
   "outputs": [
    {
     "data": {
      "text/plain": [
       "'C:\\\\Users\\\\George'"
      ]
     },
     "execution_count": 43,
     "metadata": {},
     "output_type": "execute_result"
    }
   ],
   "source": [
    "os.getcwd()"
   ]
  },
  {
   "cell_type": "code",
   "execution_count": null,
   "metadata": {},
   "outputs": [],
   "source": [
    "Documents\\University\\Year 4\\Project\\Python Version 1"
   ]
  }
 ],
 "metadata": {
  "kernelspec": {
   "display_name": "Python 3",
   "language": "python",
   "name": "python3"
  },
  "language_info": {
   "codemirror_mode": {
    "name": "ipython",
    "version": 3
   },
   "file_extension": ".py",
   "mimetype": "text/x-python",
   "name": "python",
   "nbconvert_exporter": "python",
   "pygments_lexer": "ipython3",
   "version": "3.7.0"
  }
 },
 "nbformat": 4,
 "nbformat_minor": 2
}
